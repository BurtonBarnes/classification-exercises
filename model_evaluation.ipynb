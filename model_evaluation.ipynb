{
 "cells": [
  {
   "cell_type": "code",
   "execution_count": 1,
   "id": "b397b051",
   "metadata": {},
   "outputs": [
    {
     "ename": "SyntaxError",
     "evalue": "invalid syntax (2335465763.py, line 2)",
     "output_type": "error",
     "traceback": [
      "\u001b[0;36m  Input \u001b[0;32mIn [1]\u001b[0;36m\u001b[0m\n\u001b[0;31m    |               | pred dog   | pred cat   |\u001b[0m\n\u001b[0m    ^\u001b[0m\n\u001b[0;31mSyntaxError\u001b[0m\u001b[0;31m:\u001b[0m invalid syntax\n"
     ]
    }
   ],
   "source": [
    "#2.\n",
    "|               | pred dog   | pred cat   |\n",
    "|:------------  |-----------:|-----------:|\n",
    "| actual dog    |         46 |         7  |\n",
    "| actual cat    |         13 |         34 |"
   ]
  },
  {
   "cell_type": "code",
   "execution_count": 2,
   "id": "20b36b59",
   "metadata": {},
   "outputs": [],
   "source": [
    "# FP: Predict a dog get a cat\n",
    "# FN: predict a cat get a dog\n",
    "# model Accuracy is 80%, Precision is 77.96%, Recall is 86.79%"
   ]
  },
  {
   "cell_type": "code",
   "execution_count": 3,
   "id": "9366eba1",
   "metadata": {},
   "outputs": [],
   "source": [
    "#3.a.\n",
    "#Precision is best to find all defects even when there aren't any. I would recommend model 3"
   ]
  },
  {
   "cell_type": "code",
   "execution_count": 4,
   "id": "e8ba4e4f",
   "metadata": {},
   "outputs": [],
   "source": [
    "#3.b.\n",
    "# Recall is best so vacatiions are nor just given out. model 1 is best for this"
   ]
  },
  {
   "cell_type": "code",
   "execution_count": 5,
   "id": "19e287be",
   "metadata": {},
   "outputs": [],
   "source": [
    "#4.a. No"
   ]
  },
  {
   "cell_type": "code",
   "execution_count": 6,
   "id": "457ee087",
   "metadata": {},
   "outputs": [],
   "source": [
    "#4.b. model 4"
   ]
  },
  {
   "cell_type": "code",
   "execution_count": 7,
   "id": "7a838ccd",
   "metadata": {},
   "outputs": [],
   "source": [
    "#4.c. model 2"
   ]
  },
  {
   "cell_type": "code",
   "execution_count": null,
   "id": "d8ecbe2d",
   "metadata": {},
   "outputs": [],
   "source": [
    "#5."
   ]
  }
 ],
 "metadata": {
  "kernelspec": {
   "display_name": "Python 3 (ipykernel)",
   "language": "python",
   "name": "python3"
  },
  "language_info": {
   "codemirror_mode": {
    "name": "ipython",
    "version": 3
   },
   "file_extension": ".py",
   "mimetype": "text/x-python",
   "name": "python",
   "nbconvert_exporter": "python",
   "pygments_lexer": "ipython3",
   "version": "3.9.12"
  }
 },
 "nbformat": 4,
 "nbformat_minor": 5
}
